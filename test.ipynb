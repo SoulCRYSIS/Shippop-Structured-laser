{
 "cells": [
  {
   "cell_type": "code",
   "execution_count": 1,
   "metadata": {},
   "outputs": [],
   "source": [
    "import os\n",
    "from constant import DATA_FOLDER\n",
    "\n",
    "imagesPath = os.listdir(DATA_FOLDER + \"/train/images/\")\n",
    "output = \"\"\n",
    "for path in imagesPath:\n",
    "    output += \"train/images/\" + path\n",
    "    output += \" \"\n",
    "    output += \"train/label/\" + path\n",
    "    output += \"\\n\"\n",
    "with open(DATA_FOLDER + \"/train_pair.lst\", \"w\") as f:\n",
    "    f.write(output)\n"
   ]
  }
 ],
 "metadata": {
  "interpreter": {
   "hash": "7dc37afeb15fc423819d679c9effe622755f628531695fb76cdc08e305493378"
  },
  "kernelspec": {
   "display_name": "Python 3.9.12 ('base')",
   "language": "python",
   "name": "python3"
  },
  "language_info": {
   "codemirror_mode": {
    "name": "ipython",
    "version": 3
   },
   "file_extension": ".py",
   "mimetype": "text/x-python",
   "name": "python",
   "nbconvert_exporter": "python",
   "pygments_lexer": "ipython3",
   "version": "3.9.12"
  },
  "orig_nbformat": 4
 },
 "nbformat": 4,
 "nbformat_minor": 2
}
