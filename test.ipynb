{
 "cells": [
  {
   "cell_type": "code",
   "execution_count": 1,
   "metadata": {},
   "outputs": [],
   "source": [
    "# create train_pair\n",
    "import os\n",
    "from constant import DATA_FOLDER\n",
    "\n",
    "imagesPath = os.listdir(DATA_FOLDER + \"/train/images/\")\n",
    "output = \"\"\n",
    "for path in imagesPath:\n",
    "    output += \"train/images/\" + path\n",
    "    output += \" \"\n",
    "    output += \"train/label/\" + path\n",
    "    output += \"\\n\"\n",
    "with open(DATA_FOLDER + \"/train_pair.lst\", \"w\") as f:\n",
    "    f.write(output)\n"
   ]
  },
  {
   "cell_type": "code",
   "execution_count": 12,
   "metadata": {},
   "outputs": [],
   "source": [
    "# resize image\n",
    "import os\n",
    "import glob\n",
    "from constant import DATA_FOLDER\n",
    "from PIL import Image\n",
    "\n",
    "imagesPath = glob.glob(\"images/*\")\n",
    "NEW_SIZE = (800, 800)\n",
    "\n",
    "def human_readable_size(size, decimal_places=2):\n",
    "    for unit in ['B', 'KB', 'MB', 'GB', 'TB', 'PB']:\n",
    "        if size < 1024.0 or unit == 'PB':\n",
    "            break\n",
    "        size /= 1024.0\n",
    "    return f\"{size:.{decimal_places}f} {unit}\"\n",
    "\n",
    "for path in imagesPath:\n",
    "    img = Image.open(path)\n",
    "    if img.size != NEW_SIZE:\n",
    "        print(path, \":\", img.size, \"->\", NEW_SIZE, \":\", human_readable_size(os.path.getsize(path)), end=\" -> \")\n",
    "        img = img.resize(NEW_SIZE)\n",
    "        img.save(path, quality=100)\n",
    "        print(human_readable_size(os.path.getsize(path)))\n"
   ]
  }
 ],
 "metadata": {
  "interpreter": {
   "hash": "c908c4af70fbc41d5289a7dd0cd650fc3b951c49876884c879a1066cafc8d6ff"
  },
  "kernelspec": {
   "display_name": "Python 3.9.12 ('base')",
   "language": "python",
   "name": "python3"
  },
  "language_info": {
   "codemirror_mode": {
    "name": "ipython",
    "version": 3
   },
   "file_extension": ".py",
   "mimetype": "text/x-python",
   "name": "python",
   "nbconvert_exporter": "python",
   "pygments_lexer": "ipython3",
   "version": "3.9.12"
  },
  "orig_nbformat": 4
 },
 "nbformat": 4,
 "nbformat_minor": 2
}
