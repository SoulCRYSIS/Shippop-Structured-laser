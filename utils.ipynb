{
 "cells": [
  {
   "cell_type": "code",
   "execution_count": 1,
   "metadata": {},
   "outputs": [
    {
     "name": "stdout",
     "output_type": "stream",
     "text": [
      "Epoch 1/20\n"
     ]
    },
    {
     "ename": "ResourceExhaustedError",
     "evalue": "Graph execution error:\n\nDetected at node 'gradient_tape/model/conv2d/Conv2D/Conv2DBackpropInput' defined at (most recent call last):\n    File \"c:\\Users\\SoulCRYSIS\\anaconda3\\lib\\runpy.py\", line 197, in _run_module_as_main\n      return _run_code(code, main_globals, None,\n    File \"c:\\Users\\SoulCRYSIS\\anaconda3\\lib\\runpy.py\", line 87, in _run_code\n      exec(code, run_globals)\n    File \"c:\\Users\\SoulCRYSIS\\anaconda3\\lib\\site-packages\\ipykernel_launcher.py\", line 16, in <module>\n      app.launch_new_instance()\n    File \"c:\\Users\\SoulCRYSIS\\anaconda3\\lib\\site-packages\\traitlets\\config\\application.py\", line 846, in launch_instance\n      app.start()\n    File \"c:\\Users\\SoulCRYSIS\\anaconda3\\lib\\site-packages\\ipykernel\\kernelapp.py\", line 677, in start\n      self.io_loop.start()\n    File \"c:\\Users\\SoulCRYSIS\\anaconda3\\lib\\site-packages\\tornado\\platform\\asyncio.py\", line 199, in start\n      self.asyncio_loop.run_forever()\n    File \"c:\\Users\\SoulCRYSIS\\anaconda3\\lib\\asyncio\\base_events.py\", line 601, in run_forever\n      self._run_once()\n    File \"c:\\Users\\SoulCRYSIS\\anaconda3\\lib\\asyncio\\base_events.py\", line 1905, in _run_once\n      handle._run()\n    File \"c:\\Users\\SoulCRYSIS\\anaconda3\\lib\\asyncio\\events.py\", line 80, in _run\n      self._context.run(self._callback, *self._args)\n    File \"c:\\Users\\SoulCRYSIS\\anaconda3\\lib\\site-packages\\ipykernel\\kernelbase.py\", line 471, in dispatch_queue\n      await self.process_one()\n    File \"c:\\Users\\SoulCRYSIS\\anaconda3\\lib\\site-packages\\ipykernel\\kernelbase.py\", line 460, in process_one\n      await dispatch(*args)\n    File \"c:\\Users\\SoulCRYSIS\\anaconda3\\lib\\site-packages\\ipykernel\\kernelbase.py\", line 367, in dispatch_shell\n      await result\n    File \"c:\\Users\\SoulCRYSIS\\anaconda3\\lib\\site-packages\\ipykernel\\kernelbase.py\", line 662, in execute_request\n      reply_content = await reply_content\n    File \"c:\\Users\\SoulCRYSIS\\anaconda3\\lib\\site-packages\\ipykernel\\ipkernel.py\", line 360, in do_execute\n      res = shell.run_cell(code, store_history=store_history, silent=silent)\n    File \"c:\\Users\\SoulCRYSIS\\anaconda3\\lib\\site-packages\\ipykernel\\zmqshell.py\", line 532, in run_cell\n      return super().run_cell(*args, **kwargs)\n    File \"c:\\Users\\SoulCRYSIS\\anaconda3\\lib\\site-packages\\IPython\\core\\interactiveshell.py\", line 2863, in run_cell\n      result = self._run_cell(\n    File \"c:\\Users\\SoulCRYSIS\\anaconda3\\lib\\site-packages\\IPython\\core\\interactiveshell.py\", line 2909, in _run_cell\n      return runner(coro)\n    File \"c:\\Users\\SoulCRYSIS\\anaconda3\\lib\\site-packages\\IPython\\core\\async_helpers.py\", line 129, in _pseudo_sync_runner\n      coro.send(None)\n    File \"c:\\Users\\SoulCRYSIS\\anaconda3\\lib\\site-packages\\IPython\\core\\interactiveshell.py\", line 3106, in run_cell_async\n      has_raised = await self.run_ast_nodes(code_ast.body, cell_name,\n    File \"c:\\Users\\SoulCRYSIS\\anaconda3\\lib\\site-packages\\IPython\\core\\interactiveshell.py\", line 3309, in run_ast_nodes\n      if await self.run_code(code, result, async_=asy):\n    File \"c:\\Users\\SoulCRYSIS\\anaconda3\\lib\\site-packages\\IPython\\core\\interactiveshell.py\", line 3369, in run_code\n      exec(code_obj, self.user_global_ns, self.user_ns)\n    File \"C:\\Users\\SoulCRYSIS\\AppData\\Local\\Temp\\ipykernel_18180\\3929422967.py\", line 3, in <cell line: 3>\n      trainModel()\n    File \"c:\\Users\\SoulCRYSIS\\Desktop\\Developer\\Shippop\\Shippop-Structured-laser\\main_segmentation.py\", line 53, in trainModel\n      train_history = model.fit(\n    File \"c:\\Users\\SoulCRYSIS\\anaconda3\\lib\\site-packages\\keras\\utils\\traceback_utils.py\", line 64, in error_handler\n      return fn(*args, **kwargs)\n    File \"c:\\Users\\SoulCRYSIS\\anaconda3\\lib\\site-packages\\keras\\engine\\training.py\", line 1409, in fit\n      tmp_logs = self.train_function(iterator)\n    File \"c:\\Users\\SoulCRYSIS\\anaconda3\\lib\\site-packages\\keras\\engine\\training.py\", line 1051, in train_function\n      return step_function(self, iterator)\n    File \"c:\\Users\\SoulCRYSIS\\anaconda3\\lib\\site-packages\\keras\\engine\\training.py\", line 1040, in step_function\n      outputs = model.distribute_strategy.run(run_step, args=(data,))\n    File \"c:\\Users\\SoulCRYSIS\\anaconda3\\lib\\site-packages\\keras\\engine\\training.py\", line 1030, in run_step\n      outputs = model.train_step(data)\n    File \"c:\\Users\\SoulCRYSIS\\anaconda3\\lib\\site-packages\\keras\\engine\\training.py\", line 893, in train_step\n      self.optimizer.minimize(loss, self.trainable_variables, tape=tape)\n    File \"c:\\Users\\SoulCRYSIS\\anaconda3\\lib\\site-packages\\keras\\optimizers\\optimizer_v2\\optimizer_v2.py\", line 537, in minimize\n      grads_and_vars = self._compute_gradients(\n    File \"c:\\Users\\SoulCRYSIS\\anaconda3\\lib\\site-packages\\keras\\optimizers\\optimizer_v2\\optimizer_v2.py\", line 590, in _compute_gradients\n      grads_and_vars = self._get_gradients(tape, loss, var_list, grad_loss)\n    File \"c:\\Users\\SoulCRYSIS\\anaconda3\\lib\\site-packages\\keras\\optimizers\\optimizer_v2\\optimizer_v2.py\", line 471, in _get_gradients\n      grads = tape.gradient(loss, var_list, grad_loss)\nNode: 'gradient_tape/model/conv2d/Conv2D/Conv2DBackpropInput'\nOOM when allocating tensor with shape[3,256,200,200] and type float on /job:localhost/replica:0/task:0/device:GPU:0 by allocator GPU_0_bfc\n\t [[{{node gradient_tape/model/conv2d/Conv2D/Conv2DBackpropInput}}]]\nHint: If you want to see a list of allocated tensors when OOM happens, add report_tensor_allocations_upon_oom to RunOptions for current allocation info. This isn't available when running in Eager mode.\n [Op:__inference_train_function_4202]",
     "output_type": "error",
     "traceback": [
      "\u001b[1;31m---------------------------------------------------------------------------\u001b[0m",
      "\u001b[1;31mResourceExhaustedError\u001b[0m                    Traceback (most recent call last)",
      "\u001b[1;32mc:\\Users\\SoulCRYSIS\\Desktop\\Developer\\Shippop\\Shippop-Structured-laser\\utils.ipynb Cell 1'\u001b[0m in \u001b[0;36m<cell line: 3>\u001b[1;34m()\u001b[0m\n\u001b[0;32m      <a href='vscode-notebook-cell:/c%3A/Users/SoulCRYSIS/Desktop/Developer/Shippop/Shippop-Structured-laser/utils.ipynb#ch0000003?line=0'>1</a>\u001b[0m \u001b[39m# train model\u001b[39;00m\n\u001b[0;32m      <a href='vscode-notebook-cell:/c%3A/Users/SoulCRYSIS/Desktop/Developer/Shippop/Shippop-Structured-laser/utils.ipynb#ch0000003?line=1'>2</a>\u001b[0m \u001b[39mfrom\u001b[39;00m \u001b[39mmain_segmentation\u001b[39;00m \u001b[39mimport\u001b[39;00m trainModel\n\u001b[1;32m----> <a href='vscode-notebook-cell:/c%3A/Users/SoulCRYSIS/Desktop/Developer/Shippop/Shippop-Structured-laser/utils.ipynb#ch0000003?line=2'>3</a>\u001b[0m trainModel()\n",
      "File \u001b[1;32mc:\\Users\\SoulCRYSIS\\Desktop\\Developer\\Shippop\\Shippop-Structured-laser\\main_segmentation.py:53\u001b[0m, in \u001b[0;36mtrainModel\u001b[1;34m()\u001b[0m\n\u001b[0;32m     49\u001b[0m csv_logger  \u001b[39m=\u001b[39m callbacks\u001b[39m.\u001b[39mCSVLogger(csv_fn, append\u001b[39m=\u001b[39m\u001b[39mFalse\u001b[39;00m, separator\u001b[39m=\u001b[39m\u001b[39m'\u001b[39m\u001b[39m,\u001b[39m\u001b[39m'\u001b[39m)\n\u001b[0;32m     50\u001b[0m tensorboard \u001b[39m=\u001b[39m callbacks\u001b[39m.\u001b[39mTensorBoard(log_dir\u001b[39m=\u001b[39mmodel_dir, histogram_freq\u001b[39m=\u001b[39m\u001b[39m0\u001b[39m,\n\u001b[0;32m     51\u001b[0m                                     write_graph\u001b[39m=\u001b[39m\u001b[39mTrue\u001b[39;00m, write_images\u001b[39m=\u001b[39m\u001b[39mFalse\u001b[39;00m)\n\u001b[1;32m---> 53\u001b[0m train_history \u001b[39m=\u001b[39m model\u001b[39m.\u001b[39;49mfit(\n\u001b[0;32m     54\u001b[0m                     generate_minibatches(dataParser,),\n\u001b[0;32m     55\u001b[0m                     \u001b[39m# max_q_size=40, workers=1,\u001b[39;49;00m\n\u001b[0;32m     56\u001b[0m                     steps_per_epoch\u001b[39m=\u001b[39;49mdataParser\u001b[39m.\u001b[39;49msteps_per_epoch,  \u001b[39m#batch size\u001b[39;49;00m\n\u001b[0;32m     57\u001b[0m                     epochs\u001b[39m=\u001b[39;49mEPOCH_SIZE,\n\u001b[0;32m     58\u001b[0m                     validation_data\u001b[39m=\u001b[39;49mgenerate_minibatches(dataParser, train\u001b[39m=\u001b[39;49m\u001b[39mFalse\u001b[39;49;00m),\n\u001b[0;32m     59\u001b[0m                     validation_steps\u001b[39m=\u001b[39;49mdataParser\u001b[39m.\u001b[39;49mvalidation_steps,\n\u001b[0;32m     60\u001b[0m                     callbacks\u001b[39m=\u001b[39;49m[checkpointer, csv_logger, tensorboard])\n\u001b[0;32m     62\u001b[0m \u001b[39m# pdb.set_trace()\u001b[39;00m\n\u001b[0;32m     64\u001b[0m \u001b[39mprint\u001b[39m(train_history)\n",
      "File \u001b[1;32mc:\\Users\\SoulCRYSIS\\anaconda3\\lib\\site-packages\\keras\\utils\\traceback_utils.py:67\u001b[0m, in \u001b[0;36mfilter_traceback.<locals>.error_handler\u001b[1;34m(*args, **kwargs)\u001b[0m\n\u001b[0;32m     65\u001b[0m \u001b[39mexcept\u001b[39;00m \u001b[39mException\u001b[39;00m \u001b[39mas\u001b[39;00m e:  \u001b[39m# pylint: disable=broad-except\u001b[39;00m\n\u001b[0;32m     66\u001b[0m   filtered_tb \u001b[39m=\u001b[39m _process_traceback_frames(e\u001b[39m.\u001b[39m__traceback__)\n\u001b[1;32m---> 67\u001b[0m   \u001b[39mraise\u001b[39;00m e\u001b[39m.\u001b[39mwith_traceback(filtered_tb) \u001b[39mfrom\u001b[39;00m \u001b[39mNone\u001b[39m\n\u001b[0;32m     68\u001b[0m \u001b[39mfinally\u001b[39;00m:\n\u001b[0;32m     69\u001b[0m   \u001b[39mdel\u001b[39;00m filtered_tb\n",
      "File \u001b[1;32mc:\\Users\\SoulCRYSIS\\anaconda3\\lib\\site-packages\\tensorflow\\python\\eager\\execute.py:54\u001b[0m, in \u001b[0;36mquick_execute\u001b[1;34m(op_name, num_outputs, inputs, attrs, ctx, name)\u001b[0m\n\u001b[0;32m     52\u001b[0m \u001b[39mtry\u001b[39;00m:\n\u001b[0;32m     53\u001b[0m   ctx\u001b[39m.\u001b[39mensure_initialized()\n\u001b[1;32m---> 54\u001b[0m   tensors \u001b[39m=\u001b[39m pywrap_tfe\u001b[39m.\u001b[39mTFE_Py_Execute(ctx\u001b[39m.\u001b[39m_handle, device_name, op_name,\n\u001b[0;32m     55\u001b[0m                                       inputs, attrs, num_outputs)\n\u001b[0;32m     56\u001b[0m \u001b[39mexcept\u001b[39;00m core\u001b[39m.\u001b[39m_NotOkStatusException \u001b[39mas\u001b[39;00m e:\n\u001b[0;32m     57\u001b[0m   \u001b[39mif\u001b[39;00m name \u001b[39mis\u001b[39;00m \u001b[39mnot\u001b[39;00m \u001b[39mNone\u001b[39;00m:\n",
      "\u001b[1;31mResourceExhaustedError\u001b[0m: Graph execution error:\n\nDetected at node 'gradient_tape/model/conv2d/Conv2D/Conv2DBackpropInput' defined at (most recent call last):\n    File \"c:\\Users\\SoulCRYSIS\\anaconda3\\lib\\runpy.py\", line 197, in _run_module_as_main\n      return _run_code(code, main_globals, None,\n    File \"c:\\Users\\SoulCRYSIS\\anaconda3\\lib\\runpy.py\", line 87, in _run_code\n      exec(code, run_globals)\n    File \"c:\\Users\\SoulCRYSIS\\anaconda3\\lib\\site-packages\\ipykernel_launcher.py\", line 16, in <module>\n      app.launch_new_instance()\n    File \"c:\\Users\\SoulCRYSIS\\anaconda3\\lib\\site-packages\\traitlets\\config\\application.py\", line 846, in launch_instance\n      app.start()\n    File \"c:\\Users\\SoulCRYSIS\\anaconda3\\lib\\site-packages\\ipykernel\\kernelapp.py\", line 677, in start\n      self.io_loop.start()\n    File \"c:\\Users\\SoulCRYSIS\\anaconda3\\lib\\site-packages\\tornado\\platform\\asyncio.py\", line 199, in start\n      self.asyncio_loop.run_forever()\n    File \"c:\\Users\\SoulCRYSIS\\anaconda3\\lib\\asyncio\\base_events.py\", line 601, in run_forever\n      self._run_once()\n    File \"c:\\Users\\SoulCRYSIS\\anaconda3\\lib\\asyncio\\base_events.py\", line 1905, in _run_once\n      handle._run()\n    File \"c:\\Users\\SoulCRYSIS\\anaconda3\\lib\\asyncio\\events.py\", line 80, in _run\n      self._context.run(self._callback, *self._args)\n    File \"c:\\Users\\SoulCRYSIS\\anaconda3\\lib\\site-packages\\ipykernel\\kernelbase.py\", line 471, in dispatch_queue\n      await self.process_one()\n    File \"c:\\Users\\SoulCRYSIS\\anaconda3\\lib\\site-packages\\ipykernel\\kernelbase.py\", line 460, in process_one\n      await dispatch(*args)\n    File \"c:\\Users\\SoulCRYSIS\\anaconda3\\lib\\site-packages\\ipykernel\\kernelbase.py\", line 367, in dispatch_shell\n      await result\n    File \"c:\\Users\\SoulCRYSIS\\anaconda3\\lib\\site-packages\\ipykernel\\kernelbase.py\", line 662, in execute_request\n      reply_content = await reply_content\n    File \"c:\\Users\\SoulCRYSIS\\anaconda3\\lib\\site-packages\\ipykernel\\ipkernel.py\", line 360, in do_execute\n      res = shell.run_cell(code, store_history=store_history, silent=silent)\n    File \"c:\\Users\\SoulCRYSIS\\anaconda3\\lib\\site-packages\\ipykernel\\zmqshell.py\", line 532, in run_cell\n      return super().run_cell(*args, **kwargs)\n    File \"c:\\Users\\SoulCRYSIS\\anaconda3\\lib\\site-packages\\IPython\\core\\interactiveshell.py\", line 2863, in run_cell\n      result = self._run_cell(\n    File \"c:\\Users\\SoulCRYSIS\\anaconda3\\lib\\site-packages\\IPython\\core\\interactiveshell.py\", line 2909, in _run_cell\n      return runner(coro)\n    File \"c:\\Users\\SoulCRYSIS\\anaconda3\\lib\\site-packages\\IPython\\core\\async_helpers.py\", line 129, in _pseudo_sync_runner\n      coro.send(None)\n    File \"c:\\Users\\SoulCRYSIS\\anaconda3\\lib\\site-packages\\IPython\\core\\interactiveshell.py\", line 3106, in run_cell_async\n      has_raised = await self.run_ast_nodes(code_ast.body, cell_name,\n    File \"c:\\Users\\SoulCRYSIS\\anaconda3\\lib\\site-packages\\IPython\\core\\interactiveshell.py\", line 3309, in run_ast_nodes\n      if await self.run_code(code, result, async_=asy):\n    File \"c:\\Users\\SoulCRYSIS\\anaconda3\\lib\\site-packages\\IPython\\core\\interactiveshell.py\", line 3369, in run_code\n      exec(code_obj, self.user_global_ns, self.user_ns)\n    File \"C:\\Users\\SoulCRYSIS\\AppData\\Local\\Temp\\ipykernel_18180\\3929422967.py\", line 3, in <cell line: 3>\n      trainModel()\n    File \"c:\\Users\\SoulCRYSIS\\Desktop\\Developer\\Shippop\\Shippop-Structured-laser\\main_segmentation.py\", line 53, in trainModel\n      train_history = model.fit(\n    File \"c:\\Users\\SoulCRYSIS\\anaconda3\\lib\\site-packages\\keras\\utils\\traceback_utils.py\", line 64, in error_handler\n      return fn(*args, **kwargs)\n    File \"c:\\Users\\SoulCRYSIS\\anaconda3\\lib\\site-packages\\keras\\engine\\training.py\", line 1409, in fit\n      tmp_logs = self.train_function(iterator)\n    File \"c:\\Users\\SoulCRYSIS\\anaconda3\\lib\\site-packages\\keras\\engine\\training.py\", line 1051, in train_function\n      return step_function(self, iterator)\n    File \"c:\\Users\\SoulCRYSIS\\anaconda3\\lib\\site-packages\\keras\\engine\\training.py\", line 1040, in step_function\n      outputs = model.distribute_strategy.run(run_step, args=(data,))\n    File \"c:\\Users\\SoulCRYSIS\\anaconda3\\lib\\site-packages\\keras\\engine\\training.py\", line 1030, in run_step\n      outputs = model.train_step(data)\n    File \"c:\\Users\\SoulCRYSIS\\anaconda3\\lib\\site-packages\\keras\\engine\\training.py\", line 893, in train_step\n      self.optimizer.minimize(loss, self.trainable_variables, tape=tape)\n    File \"c:\\Users\\SoulCRYSIS\\anaconda3\\lib\\site-packages\\keras\\optimizers\\optimizer_v2\\optimizer_v2.py\", line 537, in minimize\n      grads_and_vars = self._compute_gradients(\n    File \"c:\\Users\\SoulCRYSIS\\anaconda3\\lib\\site-packages\\keras\\optimizers\\optimizer_v2\\optimizer_v2.py\", line 590, in _compute_gradients\n      grads_and_vars = self._get_gradients(tape, loss, var_list, grad_loss)\n    File \"c:\\Users\\SoulCRYSIS\\anaconda3\\lib\\site-packages\\keras\\optimizers\\optimizer_v2\\optimizer_v2.py\", line 471, in _get_gradients\n      grads = tape.gradient(loss, var_list, grad_loss)\nNode: 'gradient_tape/model/conv2d/Conv2D/Conv2DBackpropInput'\nOOM when allocating tensor with shape[3,256,200,200] and type float on /job:localhost/replica:0/task:0/device:GPU:0 by allocator GPU_0_bfc\n\t [[{{node gradient_tape/model/conv2d/Conv2D/Conv2DBackpropInput}}]]\nHint: If you want to see a list of allocated tensors when OOM happens, add report_tensor_allocations_upon_oom to RunOptions for current allocation info. This isn't available when running in Eager mode.\n [Op:__inference_train_function_4202]"
     ]
    }
   ],
   "source": [
    "# train model\n",
    "from main_segmentation import trainModel\n",
    "trainModel()"
   ]
  },
  {
   "cell_type": "code",
   "execution_count": 4,
   "metadata": {},
   "outputs": [
    {
     "name": "stdout",
     "output_type": "stream",
     "text": [
      "--- select weight data ---\n",
      "0 13-06-2022_400-400_250-20-5.hdf5\n",
      "1 15-06-2022_400-400_250-20-3.hdf5\n",
      "in_train_data/image234-1.jpg 800 800\n",
      "1/1 [==============================] - 0s 162ms/step\n",
      "in_train_data/image234-2.jpg 800 800\n",
      "1/1 [==============================] - 0s 15ms/step\n",
      "in_train_data/image235-1.jpg 800 800\n",
      "1/1 [==============================] - 0s 17ms/step\n",
      "in_train_data/image235-2.jpg 800 800\n",
      "1/1 [==============================] - 0s 17ms/step\n",
      "in_train_data/image236-0.jpg 800 800\n",
      "1/1 [==============================] - 0s 16ms/step\n",
      "not_train_data/image139-1.jpg 800 800\n",
      "1/1 [==============================] - 0s 16ms/step\n",
      "not_train_data/image145-1.jpg 800 800\n",
      "1/1 [==============================] - 0s 16ms/step\n",
      "not_train_data/image245-2.jpg 800 800\n",
      "1/1 [==============================] - 0s 16ms/step\n",
      "not_train_data/image247-1.jpg 800 800\n",
      "1/1 [==============================] - 0s 15ms/step\n",
      "not_train_data/image248-1.jpg 800 800\n",
      "1/1 [==============================] - 0s 15ms/step\n"
     ]
    }
   ],
   "source": [
    "# predict\n",
    "from test import predictResults\n",
    "predictResults()"
   ]
  },
  {
   "cell_type": "code",
   "execution_count": 1,
   "metadata": {},
   "outputs": [
    {
     "name": "stdout",
     "output_type": "stream",
     "text": [
      "created 240 pairs out of 268 pairs\n"
     ]
    }
   ],
   "source": [
    "# train pair generator\n",
    "import os\n",
    "from constant import DATA_FOLDER, BATCH_SIZE\n",
    "from constant import TRAIN_VALIDATOR_RATIO\n",
    "\n",
    "# check train/test equality\n",
    "images = os.listdir(DATA_FOLDER + \"/train/images/\")\n",
    "labels = os.listdir(DATA_FOLDER + \"/train/labels/\")\n",
    "\n",
    "isError = False\n",
    "errorList = [\"--- image that isn't in labels folder ---\"]\n",
    "for image in images:\n",
    "    if image not in labels:\n",
    "        errorList.append(image)\n",
    "        isError = True\n",
    "if len(errorList) > 1:\n",
    "    for error in errorList:\n",
    "        print(error)\n",
    "\n",
    "errorList = [\"--- label that isn't in images folder ---\"]\n",
    "for label in labels:\n",
    "    if label not in images:\n",
    "        errorList.append(label)\n",
    "        isError = True\n",
    "if len(errorList) > 1:\n",
    "    for error in errorList:\n",
    "        print(error)\n",
    "\n",
    "if isError:\n",
    "    raise Exception(\"images/labels folder didn't match\")\n",
    "\n",
    "# create train_pair\n",
    "output = \"\"\n",
    "toTrainSize = len(images)\n",
    "while (\n",
    "    round(toTrainSize * TRAIN_VALIDATOR_RATIO, 5) % (BATCH_SIZE * 2) != 0\n",
    "    or round(toTrainSize * (1 - TRAIN_VALIDATOR_RATIO), 5) % (BATCH_SIZE * 2) != 0\n",
    "):\n",
    "    toTrainSize -= 1\n",
    "\n",
    "for index, path in enumerate(images):\n",
    "    if index >= toTrainSize:\n",
    "        break\n",
    "    output += \"train/images/\" + path\n",
    "    output += \" \"\n",
    "    output += \"train/labels/\" + path\n",
    "    output += \"\\n\"\n",
    "print(\"created\", toTrainSize, \"pairs out of\", len(images), \"pairs\")\n",
    "\n",
    "with open(DATA_FOLDER + \"/train_pair.lst\", \"w\") as f:\n",
    "    f.write(output)\n"
   ]
  },
  {
   "cell_type": "code",
   "execution_count": null,
   "metadata": {},
   "outputs": [],
   "source": [
    "# resize image\n",
    "import os\n",
    "import glob\n",
    "from constant import DATA_FOLDER\n",
    "from PIL import Image\n",
    "\n",
    "imagesPath = glob.glob(\"images/*\")\n",
    "NEW_SIZE = (800, 800)\n",
    "\n",
    "def human_readable_size(size, decimal_places=2):\n",
    "    for unit in ['B', 'KB', 'MB', 'GB', 'TB', 'PB']:\n",
    "        if size < 1024.0 or unit == 'PB':\n",
    "            break\n",
    "        size /= 1024.0\n",
    "    return f\"{size:.{decimal_places}f} {unit}\"\n",
    "\n",
    "for path in imagesPath:\n",
    "    img = Image.open(path)\n",
    "    if img.size != NEW_SIZE:\n",
    "        print(path, \":\", img.size, \"->\", NEW_SIZE, \":\", human_readable_size(os.path.getsize(path)), end=\" -> \")\n",
    "        img = img.resize(NEW_SIZE)\n",
    "        img.save(path, quality=100)\n",
    "        print(human_readable_size(os.path.getsize(path)))\n"
   ]
  }
 ],
 "metadata": {
  "interpreter": {
   "hash": "c908c4af70fbc41d5289a7dd0cd650fc3b951c49876884c879a1066cafc8d6ff"
  },
  "kernelspec": {
   "display_name": "Python 3.9.12 ('base')",
   "language": "python",
   "name": "python3"
  },
  "language_info": {
   "codemirror_mode": {
    "name": "ipython",
    "version": 3
   },
   "file_extension": ".py",
   "mimetype": "text/x-python",
   "name": "python",
   "nbconvert_exporter": "python",
   "pygments_lexer": "ipython3",
   "version": "3.9.12"
  },
  "orig_nbformat": 4
 },
 "nbformat": 4,
 "nbformat_minor": 2
}
